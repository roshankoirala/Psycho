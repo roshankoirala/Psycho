{
 "cells": [
  {
   "cell_type": "code",
   "execution_count": 128,
   "metadata": {},
   "outputs": [],
   "source": [
    "import numpy as np\n",
    "import pandas as pd\n",
    "import matplotlib.pyplot as plt \n",
    "import seaborn as sns; sns.set(style = 'white')"
   ]
  },
  {
   "cell_type": "code",
   "execution_count": 28,
   "metadata": {},
   "outputs": [],
   "source": [
    "from scipy.stats import pearsonr"
   ]
  },
  {
   "cell_type": "code",
   "execution_count": 2,
   "metadata": {},
   "outputs": [],
   "source": [
    "ss_lb = pd.read_csv('SS.Left-behind.csv')\n",
    "ss_nlb = pd.read_csv('SS.Non-Left-behind.csv')\n",
    "pwb_lb = pd.read_csv('PWB.Left-behind_1.csv')\n",
    "pwb_nlb = pd.read_csv('PWB.Non-left-behind.csv')"
   ]
  },
  {
   "cell_type": "code",
   "execution_count": 3,
   "metadata": {},
   "outputs": [
    {
     "data": {
      "text/html": [
       "<div>\n",
       "<style scoped>\n",
       "    .dataframe tbody tr th:only-of-type {\n",
       "        vertical-align: middle;\n",
       "    }\n",
       "\n",
       "    .dataframe tbody tr th {\n",
       "        vertical-align: top;\n",
       "    }\n",
       "\n",
       "    .dataframe thead th {\n",
       "        text-align: right;\n",
       "    }\n",
       "</style>\n",
       "<table border=\"1\" class=\"dataframe\">\n",
       "  <thead>\n",
       "    <tr style=\"text-align: right;\">\n",
       "      <th></th>\n",
       "      <th>ss_lb</th>\n",
       "      <th>ss_nlb</th>\n",
       "      <th>pwb_lb</th>\n",
       "      <th>pwb_nlb</th>\n",
       "    </tr>\n",
       "  </thead>\n",
       "  <tbody>\n",
       "    <tr>\n",
       "      <th>0</th>\n",
       "      <td>42</td>\n",
       "      <td>47</td>\n",
       "      <td>211</td>\n",
       "      <td>210</td>\n",
       "    </tr>\n",
       "    <tr>\n",
       "      <th>1</th>\n",
       "      <td>40</td>\n",
       "      <td>42</td>\n",
       "      <td>207</td>\n",
       "      <td>193</td>\n",
       "    </tr>\n",
       "    <tr>\n",
       "      <th>2</th>\n",
       "      <td>40</td>\n",
       "      <td>43</td>\n",
       "      <td>206</td>\n",
       "      <td>210</td>\n",
       "    </tr>\n",
       "    <tr>\n",
       "      <th>3</th>\n",
       "      <td>39</td>\n",
       "      <td>42</td>\n",
       "      <td>191</td>\n",
       "      <td>190</td>\n",
       "    </tr>\n",
       "    <tr>\n",
       "      <th>4</th>\n",
       "      <td>41</td>\n",
       "      <td>41</td>\n",
       "      <td>209</td>\n",
       "      <td>212</td>\n",
       "    </tr>\n",
       "  </tbody>\n",
       "</table>\n",
       "</div>"
      ],
      "text/plain": [
       "   ss_lb  ss_nlb  pwb_lb  pwb_nlb\n",
       "0     42      47     211      210\n",
       "1     40      42     207      193\n",
       "2     40      43     206      210\n",
       "3     39      42     191      190\n",
       "4     41      41     209      212"
      ]
     },
     "execution_count": 3,
     "metadata": {},
     "output_type": "execute_result"
    }
   ],
   "source": [
    "df_comb = pd.DataFrame()\n",
    "df_comb['ss_lb'] = ss_lb.iloc[:, -1]\n",
    "df_comb['ss_nlb'] = ss_nlb.iloc[:, -1]\n",
    "df_comb['pwb_lb'] = pwb_lb.iloc[:, -1]\n",
    "df_comb['pwb_nlb'] = pwb_nlb.iloc[:, -43: -1].sum(axis = 1)\n",
    "\n",
    "df_comb.head()"
   ]
  },
  {
   "cell_type": "markdown",
   "metadata": {},
   "source": [
    "# Distribution \n",
    "\n",
    "Make subplot"
   ]
  },
  {
   "cell_type": "code",
   "execution_count": 59,
   "metadata": {},
   "outputs": [
    {
     "data": {
      "image/png": "[encoded data removed]",
      "text/plain": [
       "<Figure size 864x576 with 4 Axes>"
      ]
     },
     "metadata": {},
     "output_type": "display_data"
    }
   ],
   "source": [
    "plt.figure(figsize= (12, 8))\n",
    "plt.subplot(2, 2, 1)\n",
    "df_comb['ss_lb'].hist(bins = 10, color = 'k')\n",
    "plt.xlabel('SS_LB')\n",
    "\n",
    "plt.subplot(2,2,2)\n",
    "df_comb['ss_nlb'].hist(bins = 10, color = 'k')\n",
    "plt.xlabel('SS_NLB')\n",
    "\n",
    "plt.subplot(2,2,3)\n",
    "df_comb['pwb_lb'].hist(bins = 10, color = 'k')\n",
    "plt.xlabel('PWB_LB')\n",
    "\n",
    "plt.subplot(2,2,4)\n",
    "df_comb['pwb_nlb'].hist(bins = 10, color = 'k')\n",
    "plt.xlabel('PWB_NLB')\n",
    "\n",
    "plt.tight_layout()\n",
    "plt.show()"
   ]
  },
  {
   "cell_type": "markdown",
   "metadata": {},
   "source": [
    "# Summary Statistics\n",
    "\n",
    "Make a box plot "
   ]
  },
  {
   "cell_type": "code",
   "execution_count": 4,
   "metadata": {},
   "outputs": [
    {
     "data": {
      "text/html": [
       "<div>\n",
       "<style scoped>\n",
       "    .dataframe tbody tr th:only-of-type {\n",
       "        vertical-align: middle;\n",
       "    }\n",
       "\n",
       "    .dataframe tbody tr th {\n",
       "        vertical-align: top;\n",
       "    }\n",
       "\n",
       "    .dataframe thead th {\n",
       "        text-align: right;\n",
       "    }\n",
       "</style>\n",
       "<table border=\"1\" class=\"dataframe\">\n",
       "  <thead>\n",
       "    <tr style=\"text-align: right;\">\n",
       "      <th></th>\n",
       "      <th>ss_lb</th>\n",
       "      <th>ss_nlb</th>\n",
       "      <th>pwb_lb</th>\n",
       "      <th>pwb_nlb</th>\n",
       "    </tr>\n",
       "  </thead>\n",
       "  <tbody>\n",
       "    <tr>\n",
       "      <th>count</th>\n",
       "      <td>80.000000</td>\n",
       "      <td>80.000000</td>\n",
       "      <td>80.000000</td>\n",
       "      <td>80.000000</td>\n",
       "    </tr>\n",
       "    <tr>\n",
       "      <th>mean</th>\n",
       "      <td>37.225000</td>\n",
       "      <td>37.700000</td>\n",
       "      <td>202.200000</td>\n",
       "      <td>201.337500</td>\n",
       "    </tr>\n",
       "    <tr>\n",
       "      <th>std</th>\n",
       "      <td>5.854729</td>\n",
       "      <td>5.803534</td>\n",
       "      <td>20.199887</td>\n",
       "      <td>19.251792</td>\n",
       "    </tr>\n",
       "    <tr>\n",
       "      <th>min</th>\n",
       "      <td>22.000000</td>\n",
       "      <td>22.000000</td>\n",
       "      <td>159.000000</td>\n",
       "      <td>160.000000</td>\n",
       "    </tr>\n",
       "    <tr>\n",
       "      <th>25%</th>\n",
       "      <td>33.000000</td>\n",
       "      <td>34.000000</td>\n",
       "      <td>186.250000</td>\n",
       "      <td>190.000000</td>\n",
       "    </tr>\n",
       "    <tr>\n",
       "      <th>50%</th>\n",
       "      <td>37.000000</td>\n",
       "      <td>38.000000</td>\n",
       "      <td>205.000000</td>\n",
       "      <td>201.000000</td>\n",
       "    </tr>\n",
       "    <tr>\n",
       "      <th>75%</th>\n",
       "      <td>42.000000</td>\n",
       "      <td>42.000000</td>\n",
       "      <td>218.250000</td>\n",
       "      <td>215.000000</td>\n",
       "    </tr>\n",
       "    <tr>\n",
       "      <th>max</th>\n",
       "      <td>48.000000</td>\n",
       "      <td>48.000000</td>\n",
       "      <td>239.000000</td>\n",
       "      <td>242.000000</td>\n",
       "    </tr>\n",
       "  </tbody>\n",
       "</table>\n",
       "</div>"
      ],
      "text/plain": [
       "           ss_lb     ss_nlb      pwb_lb     pwb_nlb\n",
       "count  80.000000  80.000000   80.000000   80.000000\n",
       "mean   37.225000  37.700000  202.200000  201.337500\n",
       "std     5.854729   5.803534   20.199887   19.251792\n",
       "min    22.000000  22.000000  159.000000  160.000000\n",
       "25%    33.000000  34.000000  186.250000  190.000000\n",
       "50%    37.000000  38.000000  205.000000  201.000000\n",
       "75%    42.000000  42.000000  218.250000  215.000000\n",
       "max    48.000000  48.000000  239.000000  242.000000"
      ]
     },
     "execution_count": 4,
     "metadata": {},
     "output_type": "execute_result"
    }
   ],
   "source": [
    "df_comb.describe()"
   ]
  },
  {
   "cell_type": "code",
   "execution_count": 185,
   "metadata": {},
   "outputs": [
    {
     "data": {
      "image/png": "[encoded data removed]",
      "text/plain": [
       "<Figure size 1008x432 with 2 Axes>"
      ]
     },
     "metadata": {},
     "output_type": "display_data"
    }
   ],
   "source": [
    "plt.figure(figsize= (14, 6))\n",
    "\n",
    "boxprops = dict(linestyle='-', linewidth = 2, color = 'k')\n",
    "medianprops = dict(linestyle='--', linewidth = 2, color = 'k')\n",
    "\n",
    "\n",
    "plt.subplot(1, 2, 1)\n",
    "df_comb.iloc[:, :2].boxplot(widths = 0.5, boxprops = boxprops, medianprops = medianprops)\n",
    "plt.plot(1, df_comb['ss_lb'].mean(), 'kx', markersize = 15)\n",
    "plt.plot(2, df_comb['ss_nlb'].mean(), 'kx', markersize = 15)\n",
    "\n",
    "plt.subplot(1, 2, 2)\n",
    "df_comb.iloc[:, 2:].boxplot(widths = 0.5, patch_artist = False, boxprops = boxprops, medianprops = medianprops)\n",
    "plt.plot(1, df_comb['pwb_lb'].mean(), 'kx', markersize = 15)\n",
    "plt.plot(2, df_comb['pwb_nlb'].mean(), 'kx', markersize = 15)\n",
    "\n",
    "plt.show()"
   ]
  },
  {
   "cell_type": "markdown",
   "metadata": {},
   "source": [
    "# Correlation \n",
    "\n",
    "Find pearson correlation and its p-value"
   ]
  },
  {
   "cell_type": "code",
   "execution_count": 172,
   "metadata": {},
   "outputs": [
    {
     "data": {
      "image/png": "[encoded data removed]",
      "text/plain": [
       "<Figure size 864x576 with 1 Axes>"
      ]
     },
     "metadata": {},
     "output_type": "display_data"
    }
   ],
   "source": [
    "plt.figure(figsize= (12, 8))\n",
    "plt.plot(df_comb['ss_lb'], df_comb['pwb_lb'], 'kx', markersize = 15)\n",
    "#plt.plot(df_comb['ss_nlb'], df_comb['pwb_nlb'], 'k*', markersize = 10)\n",
    "plt.scatter(df_comb['ss_nlb'], df_comb['pwb_nlb'], s = 200, facecolors='gray', edgecolors='k')\n",
    "plt.xlabel('SS')\n",
    "plt.ylabel('PWB')\n",
    "plt.title('X - LB, O - NLB')\n",
    "plt.show()"
   ]
  },
  {
   "cell_type": "code",
   "execution_count": 29,
   "metadata": {},
   "outputs": [
    {
     "data": {
      "text/plain": [
       "(0.4768742693823513, 7.749811960732086e-06)"
      ]
     },
     "execution_count": 29,
     "metadata": {},
     "output_type": "execute_result"
    }
   ],
   "source": [
    "pearsonr(df_comb['ss_lb'], df_comb['pwb_lb'])"
   ]
  },
  {
   "cell_type": "code",
   "execution_count": 30,
   "metadata": {},
   "outputs": [
    {
     "data": {
      "text/plain": [
       "(0.43483597599401624, 5.5647622931268286e-05)"
      ]
     },
     "execution_count": 30,
     "metadata": {},
     "output_type": "execute_result"
    }
   ],
   "source": [
    "pearsonr(df_comb['ss_nlb'], df_comb['pwb_nlb'])"
   ]
  },
  {
   "cell_type": "code",
   "execution_count": 36,
   "metadata": {},
   "outputs": [
    {
     "data": {
      "text/plain": [
       "(0.4549703748156383, 1.5023170330909118e-09)"
      ]
     },
     "execution_count": 36,
     "metadata": {},
     "output_type": "execute_result"
    }
   ],
   "source": [
    "pearsonr(df_comb['ss_lb'].append(df_comb['ss_nlb']), df_comb['pwb_lb'].append(df_comb['pwb_nlb']))"
   ]
  },
  {
   "cell_type": "markdown",
   "metadata": {},
   "source": [
    "# t-Test "
   ]
  },
  {
   "cell_type": "code",
   "execution_count": 15,
   "metadata": {},
   "outputs": [],
   "source": [
    "mean_ss_lb = df_comb['ss_lb'].mean()\n",
    "mean_ss_nlb = df_comb['ss_nlb'].mean()\n",
    "mean_pwb_lb = df_comb['pwb_lb'].mean()\n",
    "mean_pwb_nlb = df_comb['pwb_nlb'].mean()"
   ]
  },
  {
   "cell_type": "code",
   "execution_count": 16,
   "metadata": {},
   "outputs": [],
   "source": [
    "std_ss_lb = df_comb['ss_lb'].std()\n",
    "std_ss_nlb = df_comb['ss_nlb'].std()\n",
    "std_pwb_lb = df_comb['pwb_lb'].std()\n",
    "std_pwb_nlb = df_comb['pwb_nlb'].std()"
   ]
  },
  {
   "cell_type": "code",
   "execution_count": 23,
   "metadata": {},
   "outputs": [],
   "source": [
    "mean_diff_ss = mean_ss_lb - mean_ss_nlb\n",
    "mean_diff_pwb = mean_pwb_lb - mean_pwb_nlb"
   ]
  },
  {
   "cell_type": "code",
   "execution_count": 22,
   "metadata": {},
   "outputs": [],
   "source": [
    "n = len(df_comb)\n",
    "\n",
    "se_ss = np.sqrt(std_ss_lb ** 2 /n + std_ss_nlb ** 2 /n )\n",
    "se_pwb = np.sqrt(std_pwb_lb ** 2 /n + std_pwb_nlb ** 2 /n )"
   ]
  },
  {
   "cell_type": "code",
   "execution_count": 26,
   "metadata": {},
   "outputs": [
    {
     "data": {
      "text/plain": [
       "-0.5153657561683429"
      ]
     },
     "execution_count": 26,
     "metadata": {},
     "output_type": "execute_result"
    }
   ],
   "source": [
    "mean_diff_ss/se_ss"
   ]
  },
  {
   "cell_type": "code",
   "execution_count": 27,
   "metadata": {},
   "outputs": [
    {
     "data": {
      "text/plain": [
       "0.27645740798676"
      ]
     },
     "execution_count": 27,
     "metadata": {},
     "output_type": "execute_result"
    }
   ],
   "source": [
    "mean_diff_pwb/se_pwb"
   ]
  },
  {
   "cell_type": "code",
   "execution_count": null,
   "metadata": {},
   "outputs": [],
   "source": []
  }
 ],
 "metadata": {
  "kernelspec": {
   "display_name": "Python 3",
   "language": "python",
   "name": "python3"
  },
  "language_info": {
   "codemirror_mode": {
    "name": "ipython",
    "version": 3
   },
   "file_extension": ".py",
   "mimetype": "text/x-python",
   "name": "python",
   "nbconvert_exporter": "python",
   "pygments_lexer": "ipython3",
   "version": "3.6.5"
  }
 },
 "nbformat": 4,
 "nbformat_minor": 2
}
